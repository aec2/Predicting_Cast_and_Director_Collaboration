{
  "nbformat": 4,
  "nbformat_minor": 0,
  "metadata": {
    "colab": {
      "name": "Edit_Embeddings.ipynb",
      "provenance": []
    },
    "kernelspec": {
      "name": "python3",
      "display_name": "Python 3"
    }
  },
  "cells": [
    {
      "cell_type": "code",
      "metadata": {
        "id": "qNXKfqc2neRi",
        "colab_type": "code",
        "colab": {}
      },
      "source": [
        "from google.colab import drive\n",
        "drive.mount('/content/drive')"
      ],
      "execution_count": 0,
      "outputs": []
    },
    {
      "cell_type": "code",
      "metadata": {
        "id": "10MVFghPwWfk",
        "colab_type": "code",
        "colab": {}
      },
      "source": [
        "import pandas as pd\n",
        "import numpy as np"
      ],
      "execution_count": 0,
      "outputs": []
    },
    {
      "cell_type": "code",
      "metadata": {
        "id": "biFdHXk5nWHT",
        "colab_type": "code",
        "colab": {}
      },
      "source": [
        "node_emb = pd.read_csv('/content/drive/My Drive/SNA_Edges/New4/embeddings.emb', sep=' ', header = None, skiprows=1)\n",
        "node_emb = node_emb.rename(columns = {0:'director'})"
      ],
      "execution_count": 0,
      "outputs": []
    },
    {
      "cell_type": "markdown",
      "metadata": {
        "id": "LF2L0PEDGKmZ",
        "colab_type": "text"
      },
      "source": [
        "For True Labels"
      ]
    },
    {
      "cell_type": "code",
      "metadata": {
        "id": "IjQc3Sfzn3Fe",
        "colab_type": "code",
        "colab": {}
      },
      "source": [
        "#Test\n",
        "edgesData_test = pd.read_csv('/content/drive/My Drive/SNA_Edges/Dependent Links/edgesdata_test_seen_dependent_links.txt', sep=',', header=None)\n",
        "edgesData_test.columns = [\"director\", \"movie_star\"]\n",
        "\n",
        "counted_links = edgesData_test.groupby(edgesData_test.columns.tolist()).size().reset_index().\\\n",
        "    rename(columns={0:'weight'})\n",
        "\n",
        "counted_links = counted_links.sort_values(by=\"weight\")\n",
        "del counted_links['weight']"
      ],
      "execution_count": 0,
      "outputs": []
    },
    {
      "cell_type": "markdown",
      "metadata": {
        "id": "7TJRlNNLGPQK",
        "colab_type": "text"
      },
      "source": [
        "For False Labels"
      ]
    },
    {
      "cell_type": "code",
      "metadata": {
        "id": "u6MYs9QQGRno",
        "colab_type": "code",
        "outputId": "65cb4e39-37fe-401e-8b43-ffa87271a8bf",
        "colab": {
          "base_uri": "https://localhost:8080/",
          "height": 34
        }
      },
      "source": [
        "import ast\n",
        "\n",
        "new_list = [line.rstrip('\\n') for line in open(\"/content/drive/My Drive/SNA_Edges/Dependent Links/gen_graph_links2.txt\")]\n",
        "gen_graph_links = []\n",
        "\n",
        "for element in new_list:\n",
        "  gen_graph_links.append(ast.literal_eval(element))\n",
        "\n",
        "len(gen_graph_links)"
      ],
      "execution_count": 0,
      "outputs": [
        {
          "output_type": "execute_result",
          "data": {
            "text/plain": [
              "100000"
            ]
          },
          "metadata": {
            "tags": []
          },
          "execution_count": 44
        }
      ]
    },
    {
      "cell_type": "code",
      "metadata": {
        "id": "D9PruhaYG6B8",
        "colab_type": "code",
        "colab": {}
      },
      "source": [
        "counted_links = pd.DataFrame.from_records(gen_graph_links)\n",
        "\n",
        "counted_links.columns = [\"director\", \"movie_star\"]"
      ],
      "execution_count": 0,
      "outputs": []
    },
    {
      "cell_type": "markdown",
      "metadata": {
        "id": "owUzP21NHd4C",
        "colab_type": "text"
      },
      "source": [
        "Contunie"
      ]
    },
    {
      "cell_type": "code",
      "metadata": {
        "id": "po8DqCJuskdm",
        "colab_type": "code",
        "colab": {}
      },
      "source": [
        "counted_links = counted_links.merge(node_emb, on='director', how='left')"
      ],
      "execution_count": 0,
      "outputs": []
    },
    {
      "cell_type": "code",
      "metadata": {
        "id": "e_Z80LV1ua4S",
        "colab_type": "code",
        "colab": {}
      },
      "source": [
        "counted_links = counted_links[np.isfinite(counted_links[1])]"
      ],
      "execution_count": 0,
      "outputs": []
    },
    {
      "cell_type": "code",
      "metadata": {
        "id": "PBzMmR90wNHH",
        "colab_type": "code",
        "colab": {}
      },
      "source": [
        "node_emb = pd.read_csv('/content/drive/My Drive/SNA_Edges/New4/embeddings.emb', sep=' ', header = None, skiprows=1)\n",
        "\n",
        "node_emb = node_emb.rename(columns = {0:'movie_star'})"
      ],
      "execution_count": 0,
      "outputs": []
    },
    {
      "cell_type": "code",
      "metadata": {
        "id": "FFE-yaRDu-Hh",
        "colab_type": "code",
        "colab": {}
      },
      "source": [
        "counted_links = counted_links.merge(node_emb, on='movie_star', how='left')"
      ],
      "execution_count": 0,
      "outputs": []
    },
    {
      "cell_type": "code",
      "metadata": {
        "id": "-0tu0qWtv6je",
        "colab_type": "code",
        "colab": {}
      },
      "source": [
        "counted_links = counted_links[np.isfinite(counted_links[\"1_y\"])]"
      ],
      "execution_count": 0,
      "outputs": []
    },
    {
      "cell_type": "code",
      "metadata": {
        "id": "foknAOC7wFgA",
        "colab_type": "code",
        "outputId": "f0fb2d27-53c8-4a5e-9f88-c1921ea5049f",
        "colab": {
          "base_uri": "https://localhost:8080/",
          "height": 419
        }
      },
      "source": [
        "counted_links['1'] = counted_links['1_x'] - counted_links['1_y']\n",
        "counted_links['2'] = counted_links['2_x'] - counted_links['2_y']\n",
        "counted_links['3'] = counted_links['3_x'] - counted_links['3_y']\n",
        "counted_links['4'] = counted_links['4_x'] - counted_links['4_y']\n",
        "counted_links['5'] = counted_links['5_x'] - counted_links['5_y']\n",
        "counted_links['6'] = counted_links['6_x'] - counted_links['6_y']\n",
        "counted_links['7'] = counted_links['7_x'] - counted_links['7_y']\n",
        "counted_links['8'] = counted_links['8_x'] - counted_links['8_y']\n",
        "counted_links['9'] = counted_links['9_x'] - counted_links['9_y']\n",
        "counted_links['10'] = counted_links['10_x'] - counted_links['10_y']\n",
        "counted_links['11'] = counted_links['11_x'] - counted_links['11_y']\n",
        "counted_links['12'] = counted_links['12_x'] - counted_links['12_y']\n",
        "#counted_links['13'] = counted_links['13_x'] - counted_links['13_y']\n",
        "#counted_links['14'] = counted_links['14_x'] - counted_links['14_y']\n",
        "#counted_links['15'] = counted_links['15_x'] - counted_links['15_y']\n",
        "#counted_links['16'] = counted_links['16_x'] - counted_links['16_y']\n",
        "\n",
        "del counted_links['1_x']\n",
        "del counted_links['1_y']\n",
        "del counted_links['2_x']\n",
        "del counted_links['2_y']\n",
        "del counted_links['3_x']\n",
        "del counted_links['3_y']\n",
        "del counted_links['4_x']\n",
        "del counted_links['4_y']\n",
        "del counted_links['5_x']\n",
        "del counted_links['5_y']\n",
        "del counted_links['6_x']\n",
        "del counted_links['6_y']\n",
        "del counted_links['7_x']\n",
        "del counted_links['7_y']\n",
        "del counted_links['8_x']\n",
        "del counted_links['8_y']\n",
        "del counted_links['9_x']\n",
        "del counted_links['9_y']\n",
        "del counted_links['10_x']\n",
        "del counted_links['10_y']\n",
        "del counted_links['11_x']\n",
        "del counted_links['11_y']\n",
        "del counted_links['12_x']\n",
        "del counted_links['12_y']\n",
        "#del counted_links['13_x']\n",
        "#del counted_links['13_y']\n",
        "#del counted_links['14_x']\n",
        "#del counted_links['14_y']\n",
        "#del counted_links['15_x']\n",
        "#del counted_links['15_y']\n",
        "#del counted_links['16_x']\n",
        "#del counted_links['16_y']\n",
        "\n",
        "counted_links"
      ],
      "execution_count": 0,
      "outputs": [
        {
          "output_type": "execute_result",
          "data": {
            "text/html": [
              "<div>\n",
              "<style scoped>\n",
              "    .dataframe tbody tr th:only-of-type {\n",
              "        vertical-align: middle;\n",
              "    }\n",
              "\n",
              "    .dataframe tbody tr th {\n",
              "        vertical-align: top;\n",
              "    }\n",
              "\n",
              "    .dataframe thead th {\n",
              "        text-align: right;\n",
              "    }\n",
              "</style>\n",
              "<table border=\"1\" class=\"dataframe\">\n",
              "  <thead>\n",
              "    <tr style=\"text-align: right;\">\n",
              "      <th></th>\n",
              "      <th>director</th>\n",
              "      <th>movie_star</th>\n",
              "      <th>1</th>\n",
              "      <th>2</th>\n",
              "      <th>3</th>\n",
              "      <th>4</th>\n",
              "      <th>5</th>\n",
              "      <th>6</th>\n",
              "      <th>7</th>\n",
              "      <th>8</th>\n",
              "      <th>9</th>\n",
              "      <th>10</th>\n",
              "      <th>11</th>\n",
              "      <th>12</th>\n",
              "    </tr>\n",
              "  </thead>\n",
              "  <tbody>\n",
              "    <tr>\n",
              "      <th>2</th>\n",
              "      <td>c_nm0606487</td>\n",
              "      <td>d_nm3827269</td>\n",
              "      <td>-3.313521</td>\n",
              "      <td>-2.585611</td>\n",
              "      <td>-6.397961</td>\n",
              "      <td>2.184294</td>\n",
              "      <td>-1.332586</td>\n",
              "      <td>3.193334</td>\n",
              "      <td>2.841059</td>\n",
              "      <td>-2.746318</td>\n",
              "      <td>0.842849</td>\n",
              "      <td>-2.998122</td>\n",
              "      <td>0.557849</td>\n",
              "      <td>7.645658</td>\n",
              "    </tr>\n",
              "    <tr>\n",
              "      <th>4</th>\n",
              "      <td>c_nm3750794</td>\n",
              "      <td>d_nm6520564</td>\n",
              "      <td>2.620332</td>\n",
              "      <td>7.039644</td>\n",
              "      <td>-3.729090</td>\n",
              "      <td>-0.747671</td>\n",
              "      <td>-3.004322</td>\n",
              "      <td>-6.223890</td>\n",
              "      <td>-1.089864</td>\n",
              "      <td>-3.649582</td>\n",
              "      <td>2.378099</td>\n",
              "      <td>-8.186918</td>\n",
              "      <td>2.241665</td>\n",
              "      <td>6.778294</td>\n",
              "    </tr>\n",
              "    <tr>\n",
              "      <th>8</th>\n",
              "      <td>c_nm6908212</td>\n",
              "      <td>d_nm0852957</td>\n",
              "      <td>3.775211</td>\n",
              "      <td>-0.023480</td>\n",
              "      <td>4.144220</td>\n",
              "      <td>-3.573075</td>\n",
              "      <td>3.168048</td>\n",
              "      <td>0.402980</td>\n",
              "      <td>-2.001885</td>\n",
              "      <td>-4.717003</td>\n",
              "      <td>-2.243975</td>\n",
              "      <td>-9.177292</td>\n",
              "      <td>1.306213</td>\n",
              "      <td>-0.699946</td>\n",
              "    </tr>\n",
              "    <tr>\n",
              "      <th>17</th>\n",
              "      <td>c_nm0893638</td>\n",
              "      <td>d_nm0954693</td>\n",
              "      <td>-5.157994</td>\n",
              "      <td>1.061396</td>\n",
              "      <td>4.606286</td>\n",
              "      <td>1.424877</td>\n",
              "      <td>-3.782819</td>\n",
              "      <td>-2.118841</td>\n",
              "      <td>-4.620933</td>\n",
              "      <td>2.157529</td>\n",
              "      <td>-0.117197</td>\n",
              "      <td>1.358987</td>\n",
              "      <td>4.380969</td>\n",
              "      <td>-3.275413</td>\n",
              "    </tr>\n",
              "    <tr>\n",
              "      <th>20</th>\n",
              "      <td>c_nm2884917</td>\n",
              "      <td>d_nm1168930</td>\n",
              "      <td>0.026431</td>\n",
              "      <td>0.919979</td>\n",
              "      <td>-0.415368</td>\n",
              "      <td>0.262350</td>\n",
              "      <td>-1.627075</td>\n",
              "      <td>2.048436</td>\n",
              "      <td>3.772980</td>\n",
              "      <td>-0.456876</td>\n",
              "      <td>-0.002771</td>\n",
              "      <td>-2.793040</td>\n",
              "      <td>2.299076</td>\n",
              "      <td>-0.904024</td>\n",
              "    </tr>\n",
              "    <tr>\n",
              "      <th>...</th>\n",
              "      <td>...</td>\n",
              "      <td>...</td>\n",
              "      <td>...</td>\n",
              "      <td>...</td>\n",
              "      <td>...</td>\n",
              "      <td>...</td>\n",
              "      <td>...</td>\n",
              "      <td>...</td>\n",
              "      <td>...</td>\n",
              "      <td>...</td>\n",
              "      <td>...</td>\n",
              "      <td>...</td>\n",
              "      <td>...</td>\n",
              "      <td>...</td>\n",
              "    </tr>\n",
              "    <tr>\n",
              "      <th>24668</th>\n",
              "      <td>c_nm0100381</td>\n",
              "      <td>d_nm3278010</td>\n",
              "      <td>-3.809528</td>\n",
              "      <td>-8.931482</td>\n",
              "      <td>10.096966</td>\n",
              "      <td>1.723019</td>\n",
              "      <td>-7.265590</td>\n",
              "      <td>1.700308</td>\n",
              "      <td>6.360930</td>\n",
              "      <td>1.026274</td>\n",
              "      <td>4.498316</td>\n",
              "      <td>-3.433509</td>\n",
              "      <td>1.092755</td>\n",
              "      <td>8.999351</td>\n",
              "    </tr>\n",
              "    <tr>\n",
              "      <th>24670</th>\n",
              "      <td>c_nm0052532</td>\n",
              "      <td>d_nm4963108</td>\n",
              "      <td>0.325062</td>\n",
              "      <td>-1.155021</td>\n",
              "      <td>-3.821340</td>\n",
              "      <td>-1.790553</td>\n",
              "      <td>-3.959319</td>\n",
              "      <td>-3.541689</td>\n",
              "      <td>-3.220337</td>\n",
              "      <td>-2.906410</td>\n",
              "      <td>3.383064</td>\n",
              "      <td>0.004426</td>\n",
              "      <td>-0.421088</td>\n",
              "      <td>1.488332</td>\n",
              "    </tr>\n",
              "    <tr>\n",
              "      <th>24673</th>\n",
              "      <td>c_nm8358489</td>\n",
              "      <td>d_nm1410503</td>\n",
              "      <td>-3.776839</td>\n",
              "      <td>2.745956</td>\n",
              "      <td>7.452409</td>\n",
              "      <td>-3.361845</td>\n",
              "      <td>-1.845968</td>\n",
              "      <td>-4.022518</td>\n",
              "      <td>-1.768397</td>\n",
              "      <td>-4.826896</td>\n",
              "      <td>-9.076727</td>\n",
              "      <td>-2.702387</td>\n",
              "      <td>-0.546490</td>\n",
              "      <td>1.110857</td>\n",
              "    </tr>\n",
              "    <tr>\n",
              "      <th>24674</th>\n",
              "      <td>c_nm5736544</td>\n",
              "      <td>d_nm1028535</td>\n",
              "      <td>0.909631</td>\n",
              "      <td>-3.613006</td>\n",
              "      <td>-1.337099</td>\n",
              "      <td>-0.852578</td>\n",
              "      <td>1.091173</td>\n",
              "      <td>4.210623</td>\n",
              "      <td>-2.156220</td>\n",
              "      <td>1.919979</td>\n",
              "      <td>-1.227083</td>\n",
              "      <td>-1.114901</td>\n",
              "      <td>2.909873</td>\n",
              "      <td>3.629096</td>\n",
              "    </tr>\n",
              "    <tr>\n",
              "      <th>24677</th>\n",
              "      <td>c_nm2856442</td>\n",
              "      <td>d_nm4214486</td>\n",
              "      <td>5.622360</td>\n",
              "      <td>-0.894942</td>\n",
              "      <td>0.587139</td>\n",
              "      <td>6.196426</td>\n",
              "      <td>-0.171961</td>\n",
              "      <td>-0.049282</td>\n",
              "      <td>0.521983</td>\n",
              "      <td>4.167948</td>\n",
              "      <td>0.812926</td>\n",
              "      <td>-3.570262</td>\n",
              "      <td>0.447495</td>\n",
              "      <td>-6.369122</td>\n",
              "    </tr>\n",
              "  </tbody>\n",
              "</table>\n",
              "<p>7313 rows × 14 columns</p>\n",
              "</div>"
            ],
            "text/plain": [
              "          director   movie_star         1  ...        10        11        12\n",
              "2      c_nm0606487  d_nm3827269 -3.313521  ... -2.998122  0.557849  7.645658\n",
              "4      c_nm3750794  d_nm6520564  2.620332  ... -8.186918  2.241665  6.778294\n",
              "8      c_nm6908212  d_nm0852957  3.775211  ... -9.177292  1.306213 -0.699946\n",
              "17     c_nm0893638  d_nm0954693 -5.157994  ...  1.358987  4.380969 -3.275413\n",
              "20     c_nm2884917  d_nm1168930  0.026431  ... -2.793040  2.299076 -0.904024\n",
              "...            ...          ...       ...  ...       ...       ...       ...\n",
              "24668  c_nm0100381  d_nm3278010 -3.809528  ... -3.433509  1.092755  8.999351\n",
              "24670  c_nm0052532  d_nm4963108  0.325062  ...  0.004426 -0.421088  1.488332\n",
              "24673  c_nm8358489  d_nm1410503 -3.776839  ... -2.702387 -0.546490  1.110857\n",
              "24674  c_nm5736544  d_nm1028535  0.909631  ... -1.114901  2.909873  3.629096\n",
              "24677  c_nm2856442  d_nm4214486  5.622360  ... -3.570262  0.447495 -6.369122\n",
              "\n",
              "[7313 rows x 14 columns]"
            ]
          },
          "metadata": {
            "tags": []
          },
          "execution_count": 51
        }
      ]
    },
    {
      "cell_type": "code",
      "metadata": {
        "id": "h9GfXxTnxG9y",
        "colab_type": "code",
        "colab": {}
      },
      "source": [
        "counted_links.to_csv(\"test_ds_false.csv\")"
      ],
      "execution_count": 0,
      "outputs": []
    },
    {
      "cell_type": "code",
      "metadata": {
        "id": "2D3Hh75xyJ2e",
        "colab_type": "code",
        "colab": {}
      },
      "source": [
        "!cp \"/content/train_ds_false.csv\" \"/content/drive/My Drive/SNA_Edges/Dependent Links/\""
      ],
      "execution_count": 0,
      "outputs": []
    },
    {
      "cell_type": "markdown",
      "metadata": {
        "id": "WNAO8whIKWQv",
        "colab_type": "text"
      },
      "source": [
        "After Creation of Datasets"
      ]
    },
    {
      "cell_type": "code",
      "metadata": {
        "id": "ltpSS-DQ00W-",
        "colab_type": "code",
        "colab": {}
      },
      "source": [
        "test_ds = pd.read_csv('/content/test_ds.csv')\n",
        "del test_ds[\"Unnamed: 0\"]\n",
        "test_ds['Y'] = True\n",
        "\n",
        "test_ds_false = pd.read_csv('/content/test_ds_false.csv')\n",
        "del test_ds_false[\"Unnamed: 0\"]\n",
        "test_ds_false['Y'] = False\n",
        "\n",
        "test = pd.concat([test_ds, test_ds_false])\n",
        "           \n",
        "train_ds = pd.read_csv('/content/train_ds.csv')\n",
        "del train_ds[\"Unnamed: 0\"]\n",
        "train_ds['Y'] = True\n",
        "\n",
        "train_ds_false = pd.read_csv('/content/train_ds_false.csv')\n",
        "del train_ds_false[\"Unnamed: 0\"]\n",
        "train_ds_false['Y'] = False\n",
        "\n",
        "train = pd.concat([train_ds, train_ds_false])"
      ],
      "execution_count": 0,
      "outputs": []
    },
    {
      "cell_type": "code",
      "metadata": {
        "id": "-YIsOasfLGtv",
        "colab_type": "code",
        "colab": {}
      },
      "source": [
        "train.to_csv(\"train2.csv\")\n",
        "!cp \"/content/train2.csv\" \"/content/drive/My Drive/SNA_Edges/Dependent Links/\"\n",
        "\n",
        "test.to_csv(\"test2.csv\")\n",
        "!cp \"/content/test2.csv\" \"/content/drive/My Drive/SNA_Edges/Dependent Links/\""
      ],
      "execution_count": 0,
      "outputs": []
    }
  ]
}