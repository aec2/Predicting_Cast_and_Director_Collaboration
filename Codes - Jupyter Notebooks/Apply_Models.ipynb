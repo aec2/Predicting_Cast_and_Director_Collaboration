{
  "nbformat": 4,
  "nbformat_minor": 0,
  "metadata": {
    "colab": {
      "name": "Apply_Models",
      "provenance": [],
      "collapsed_sections": [
        "86UVfOnaW6qB"
      ],
      "toc_visible": true
    },
    "kernelspec": {
      "name": "python3",
      "display_name": "Python 3"
    }
  },
  "cells": [
    {
      "cell_type": "markdown",
      "metadata": {
        "id": "QpSBPHwtY9_-",
        "colab_type": "text"
      },
      "source": [
        "# LOAD DATASETS"
      ]
    },
    {
      "cell_type": "code",
      "metadata": {
        "id": "eYmB4cIJdFSQ",
        "colab_type": "code",
        "outputId": "de30a74d-3f52-4aea-e8b5-54313f5f468a",
        "colab": {
          "base_uri": "https://localhost:8080/",
          "height": 122
        }
      },
      "source": [
        "from google.colab import drive\n",
        "drive.mount('/content/drive')"
      ],
      "execution_count": 0,
      "outputs": [
        {
          "output_type": "stream",
          "text": [
            "Go to this URL in a browser: https://accounts.google.com/o/oauth2/auth?client_id=947318989803-6bn6qk8qdgf4n4g3pfee6491hc0brc4i.apps.googleusercontent.com&redirect_uri=urn%3aietf%3awg%3aoauth%3a2.0%3aoob&response_type=code&scope=email%20https%3a%2f%2fwww.googleapis.com%2fauth%2fdocs.test%20https%3a%2f%2fwww.googleapis.com%2fauth%2fdrive%20https%3a%2f%2fwww.googleapis.com%2fauth%2fdrive.photos.readonly%20https%3a%2f%2fwww.googleapis.com%2fauth%2fpeopleapi.readonly\n",
            "\n",
            "Enter your authorization code:\n",
            "··········\n",
            "Mounted at /content/drive\n"
          ],
          "name": "stdout"
        }
      ]
    },
    {
      "cell_type": "code",
      "metadata": {
        "id": "UnrMMh4BZPNP",
        "colab_type": "code",
        "colab": {}
      },
      "source": [
        "import pandas as pd\n",
        "import ast"
      ],
      "execution_count": 0,
      "outputs": []
    },
    {
      "cell_type": "markdown",
      "metadata": {
        "id": "dtRQPWz5OZtV",
        "colab_type": "text"
      },
      "source": [
        "### From List"
      ]
    },
    {
      "cell_type": "code",
      "metadata": {
        "id": "DPiAg--165LJ",
        "colab_type": "code",
        "colab": {}
      },
      "source": [
        "### TRAIN ###\n",
        "new_list_train = [line.rstrip('\\n') for line in open(\"/content/predictiontraining.txt\")]\n",
        "gen_list_train = []\n",
        "\n",
        "for element in new_list_train:\n",
        "  gen_list_train.append(ast.literal_eval(element))\n",
        "\n",
        "### TEST ###\n",
        "new_list_test = [line.rstrip('\\n') for line in open(\"/content/predictiontest.txt\")]\n",
        "gen_list_test = []\n",
        "\n",
        "for element in new_list_test:\n",
        "  gen_list_test.append(ast.literal_eval(element))\n",
        "\n",
        "largelist = []\n",
        "\n",
        "for element in gen_list_train:\n",
        "  largelist.append(element)\n",
        "\n",
        "for element in gen_list_test:\n",
        "  largelist.append(element)\n"
      ],
      "execution_count": 0,
      "outputs": []
    },
    {
      "cell_type": "code",
      "metadata": {
        "id": "3PH6Uw2tMFAV",
        "colab_type": "code",
        "outputId": "60c96b1c-b30e-4bde-fa5b-224ef8bcbcc4",
        "colab": {
          "base_uri": "https://localhost:8080/",
          "height": 51
        }
      },
      "source": [
        "directors = []\n",
        "actors = []\n",
        "\n",
        "for i in range(len(largelist)):\n",
        "  directors.append(str(largelist[i][0]))\n",
        "\n",
        "for i in range(len(largelist)):\n",
        "  actors.append(str(largelist[i][1]))\n",
        "\n",
        "directors = pd.DataFrame(directors).drop_duplicates()\n",
        "actors = pd.DataFrame(actors).drop_duplicates()\n",
        "\n",
        "print(len(directors))\n",
        "print(len(actors))"
      ],
      "execution_count": 0,
      "outputs": [
        {
          "output_type": "stream",
          "text": [
            "85163\n",
            "271246\n"
          ],
          "name": "stdout"
        }
      ]
    },
    {
      "cell_type": "code",
      "metadata": {
        "id": "hLLMLMTP-C8i",
        "colab_type": "code",
        "outputId": "f3c1c6fd-cfe4-40de-b0bd-124a065118d4",
        "colab": {
          "base_uri": "https://localhost:8080/",
          "height": 34
        }
      },
      "source": [
        "print(\"Train: \" + str(len(gen_list_train)) + \" - Test: \" + str(len(gen_list_test)) + \" - Test: \" + str(len(gen_list_test)))"
      ],
      "execution_count": 0,
      "outputs": [
        {
          "output_type": "stream",
          "text": [
            "Train: 929770 - Test: 444909 - Test: 444909\n"
          ],
          "name": "stdout"
        }
      ]
    },
    {
      "cell_type": "code",
      "metadata": {
        "id": "wJoLpvr19D9L",
        "colab_type": "code",
        "colab": {}
      },
      "source": [
        "### TRAIN ###\n",
        "df_train = pd.DataFrame(gen_list_train, columns=None)\n",
        "df_train.columns = [\"Director\", \"Cast\", \"Similarities\", \"Have_Link\"]\n",
        "\n",
        "### TEST ###\n",
        "df_test = pd.DataFrame(gen_list_test, columns=None)\n",
        "df_test.columns = [\"Director\", \"Cast\", \"Similarities\", \"Have_Link\"]"
      ],
      "execution_count": 0,
      "outputs": []
    },
    {
      "cell_type": "code",
      "metadata": {
        "id": "8m7GudM22Puf",
        "colab_type": "code",
        "colab": {}
      },
      "source": [
        "### TEST ###\n",
        "df_test.Director  = df_test.Director.replace({'d_nm':'0'}, regex=True)\n",
        "df_test.Cast      = df_test.Cast.replace({'c_nm':'1'}, regex=True)\n",
        "\n",
        "### TRAIN ###\n",
        "df_train.Director = df_train.Director.replace({'d_nm':'0'}, regex=True)\n",
        "df_train.Cast     = df_train.Cast.replace({'c_nm':'1'}, regex=True)"
      ],
      "execution_count": 0,
      "outputs": []
    },
    {
      "cell_type": "code",
      "metadata": {
        "id": "4nziKMeywY3P",
        "colab_type": "code",
        "colab": {}
      },
      "source": [
        "### TRAIN ###\n",
        "result_df_train = df_train.drop_duplicates(subset=['Director', 'Cast'], keep='first')\n",
        "result_df_train.sort_values(\"Director\")\n",
        "result_df_train.sort_values(\"Cast\")\n",
        "\n",
        "### TEST ###\n",
        "result_df_test = df_test.drop_duplicates(subset=['Director', 'Cast'], keep='first')\n",
        "result_df_test.sort_values(\"Director\")\n",
        "result_df_test.sort_values(\"Cast\")\n",
        "\n",
        "print(\"Train: \" + str(len(result_df_train)) + \" - Val: \" + str(len(result_df_val)) + \" - Test: \" + str(len(result_df_test)))"
      ],
      "execution_count": 0,
      "outputs": []
    },
    {
      "cell_type": "markdown",
      "metadata": {
        "id": "DvWSLSGXOdtQ",
        "colab_type": "text"
      },
      "source": [
        "### From CSV"
      ]
    },
    {
      "cell_type": "code",
      "metadata": {
        "id": "SmWju0JBOjWX",
        "colab_type": "code",
        "colab": {}
      },
      "source": [
        "result_df_train = pd.read_csv('/content/drive/My Drive/SNA_Edges/Dependent Links/train2.csv')\n",
        "del result_df_train[\"Unnamed: 0\"]\n",
        "del result_df_train[\"director\"]\n",
        "del result_df_train[\"movie_star\"]\n",
        "\n",
        "result_df_test = pd.read_csv('/content/drive/My Drive/SNA_Edges/Dependent Links/train2.csv')\n",
        "del result_df_test[\"Unnamed: 0\"]\n",
        "\n",
        "labels_d = result_df_test.iloc[:, 0].values\n",
        "labels_f = result_df_test.iloc[:, 1].values\n",
        "\n",
        "del result_df_test[\"director\"]\n",
        "del result_df_test[\"movie_star\"]\n"
      ],
      "execution_count": 0,
      "outputs": []
    },
    {
      "cell_type": "markdown",
      "metadata": {
        "id": "TufNRgmZOhfF",
        "colab_type": "text"
      },
      "source": [
        "Contunie"
      ]
    },
    {
      "cell_type": "code",
      "metadata": {
        "id": "pMP6punrzJWD",
        "colab_type": "code",
        "colab": {}
      },
      "source": [
        "### TRAIN ###\n",
        "x_train = result_df_train.iloc[:, :-1]\n",
        "y_train = result_df_train.iloc[:, 12].values\n",
        "\n",
        "### TEST ###\n",
        "x_test = result_df_test.iloc[:, :-1]\n",
        "y_test = result_df_test.iloc[:, 12].values"
      ],
      "execution_count": 0,
      "outputs": []
    },
    {
      "cell_type": "code",
      "metadata": {
        "id": "BAhpc5ESxEwo",
        "colab_type": "code",
        "colab": {}
      },
      "source": [
        "### If you want to split randomly! Predict miss edges. ###\n",
        "\n",
        "# from sklearn.model_selection import train_test_split\n",
        "# x_train, x_test, y_train, y_test = train_test_split(X, Y, test_size=0.2, random_state=0)"
      ],
      "execution_count": 0,
      "outputs": []
    },
    {
      "cell_type": "markdown",
      "metadata": {
        "id": "Sv2h3cXVY1G_",
        "colab_type": "text"
      },
      "source": [
        "# LOGISTIC REGRESSION"
      ]
    },
    {
      "cell_type": "code",
      "metadata": {
        "id": "ddUNNAOrxDck",
        "colab_type": "code",
        "colab": {}
      },
      "source": [
        "from sklearn.linear_model import LogisticRegression\n",
        "logisticRegr = LogisticRegression()\n",
        "logisticRegr.fit(x_train, y_train)\n",
        "\n",
        "y_pred = logisticRegr.predict(x_test)\n",
        "\n",
        "logical_reg_score = logisticRegr.score(x_test, y_test)"
      ],
      "execution_count": 0,
      "outputs": []
    },
    {
      "cell_type": "code",
      "metadata": {
        "id": "x23Qf6sqxCIv",
        "colab_type": "code",
        "outputId": "f25c6a11-2d30-4a1f-fbd9-b4218c3dadee",
        "colab": {
          "base_uri": "https://localhost:8080/",
          "height": 51
        }
      },
      "source": [
        "from sklearn import metrics\n",
        "\n",
        "cm = metrics.confusion_matrix(y_test, y_pred)\n",
        "print(cm)"
      ],
      "execution_count": 0,
      "outputs": [
        {
          "output_type": "stream",
          "text": [
            "[[ 3263  1800]\n",
            " [  743 28668]]\n"
          ],
          "name": "stdout"
        }
      ]
    },
    {
      "cell_type": "code",
      "metadata": {
        "id": "T7OhGiIo250M",
        "colab_type": "code",
        "outputId": "9866e765-3426-4cdd-c142-f12321c42e79",
        "colab": {
          "base_uri": "https://localhost:8080/",
          "height": 34
        }
      },
      "source": [
        "print(logical_reg_score)"
      ],
      "execution_count": 0,
      "outputs": [
        {
          "output_type": "stream",
          "text": [
            "0.9262342635029297\n"
          ],
          "name": "stdout"
        }
      ]
    },
    {
      "cell_type": "code",
      "metadata": {
        "id": "CLzNLbPfHUhL",
        "colab_type": "code",
        "outputId": "c9f21bd5-36b0-4bc7-9c38-b051a6c48147",
        "colab": {
          "base_uri": "https://localhost:8080/",
          "height": 312
        }
      },
      "source": [
        "###Confusion matrix with sklearn\n",
        "from sklearn.metrics import roc_curve, roc_auc_score\n",
        "\n",
        "##Computing false and true positive rates\n",
        "fpr, tpr,_= roc_curve(y_test, y_pred, drop_intermediate=False)\n",
        "\n",
        "import matplotlib.pyplot as plt\n",
        "plt.figure()\n",
        "\n",
        "##Adding the ROC\n",
        "plt.plot(fpr, tpr, color='red',\n",
        " lw=2, label='ROC curve')\n",
        "\n",
        "##Random FPR and TPR\n",
        "plt.plot([0, 1], [0, 1], color='blue', lw=2, linestyle='--')\n",
        "\n",
        "##Title and label\n",
        "plt.xlabel('FPR')\n",
        "plt.ylabel('TPR')\n",
        "plt.title('ROC curve')\n",
        "plt.show()\n",
        "\n",
        "print(roc_auc_score(logisticRegr.predict(x_test), y_test))"
      ],
      "execution_count": 0,
      "outputs": [
        {
          "output_type": "display_data",
          "data": {
            "image/png": "[encoded data removed]",
            "text/plain": [
              "<Figure size 432x288 with 1 Axes>"
            ]
          },
          "metadata": {
            "tags": []
          }
        },
        {
          "output_type": "stream",
          "text": [
            "0.877724915187282\n"
          ],
          "name": "stdout"
        }
      ]
    },
    {
      "cell_type": "code",
      "metadata": {
        "id": "L51HONlkU37P",
        "colab_type": "code",
        "colab": {}
      },
      "source": [
        "counter = 0\n",
        "for pred, true, in zip(y_pred, y_test):\n",
        "  if pred == False and true == True:\n",
        "    print(\"False: \" + labels_d[counter] + \" and \" + labels_f[counter])\n",
        "  \n",
        "  if counter == 100000:\n",
        "    break\n",
        "  \n",
        "  counter = counter + 1"
      ],
      "execution_count": 0,
      "outputs": []
    },
    {
      "cell_type": "markdown",
      "metadata": {
        "id": "86UVfOnaW6qB",
        "colab_type": "text"
      },
      "source": [
        "### Get True Predictions as List"
      ]
    },
    {
      "cell_type": "code",
      "metadata": {
        "id": "r71ud7EY57gv",
        "colab_type": "code",
        "colab": {}
      },
      "source": [
        "true_pred_list = []\n",
        "for counter in range(259024):\n",
        "  if y_val[counter] == True and y_pred[counter] == True:\n",
        "    true_pred_list.append(str(x_val.iloc[counter].Director) + \",\" + str(x_val.iloc[counter].Cast))"
      ],
      "execution_count": 0,
      "outputs": []
    },
    {
      "cell_type": "code",
      "metadata": {
        "id": "vlqzenQXFvSE",
        "colab_type": "code",
        "colab": {}
      },
      "source": [
        "with open('true_pred_list.txt', 'w') as f:\n",
        "    for item in true_pred_list:\n",
        "        f.write(\"%s\\n\" % item)"
      ],
      "execution_count": 0,
      "outputs": []
    },
    {
      "cell_type": "markdown",
      "metadata": {
        "id": "6QQikadDYjuu",
        "colab_type": "text"
      },
      "source": [
        "# MODEL 1"
      ]
    },
    {
      "cell_type": "markdown",
      "metadata": {
        "id": "S_si_xHXv2Us",
        "colab_type": "text"
      },
      "source": [
        "**Note:** We didn't use this in our paper."
      ]
    },
    {
      "cell_type": "code",
      "metadata": {
        "id": "E7r0UEAZ28eN",
        "colab_type": "code",
        "colab": {}
      },
      "source": [
        "from keras.models import Sequential\n",
        "from keras.layers import Dense"
      ],
      "execution_count": 0,
      "outputs": []
    },
    {
      "cell_type": "code",
      "metadata": {
        "id": "Crouc-5DvxWL",
        "colab_type": "code",
        "colab": {}
      },
      "source": [
        "model = Sequential([\n",
        "    Dense(32, activation='relu', input_shape=(3,)),\n",
        "    Dense(32, activation='relu'),\n",
        "    Dense(1, activation='sigmoid'),\n",
        "])"
      ],
      "execution_count": 0,
      "outputs": []
    },
    {
      "cell_type": "code",
      "metadata": {
        "id": "8OrJtqZuv4Ct",
        "colab_type": "code",
        "colab": {}
      },
      "source": [
        "model.compile(optimizer='sgd',\n",
        "              loss='binary_crossentropy',\n",
        "              metrics=['accuracy'])"
      ],
      "execution_count": 0,
      "outputs": []
    },
    {
      "cell_type": "code",
      "metadata": {
        "id": "ZOHx-nFDv8pf",
        "colab_type": "code",
        "colab": {}
      },
      "source": [
        "hist = model.fit(x_train, y_train,\n",
        "          batch_size=32, epochs=3,\n",
        "          validation_data=(x_val, y_val))"
      ],
      "execution_count": 0,
      "outputs": []
    },
    {
      "cell_type": "code",
      "metadata": {
        "id": "kGXxRnZiwFOx",
        "colab_type": "code",
        "colab": {}
      },
      "source": [
        "model.evaluate(x_test, y_test)[1]"
      ],
      "execution_count": 0,
      "outputs": []
    },
    {
      "cell_type": "code",
      "metadata": {
        "id": "4Li9aW6cwYxm",
        "colab_type": "code",
        "colab": {}
      },
      "source": [
        "import matplotlib.pyplot as plt"
      ],
      "execution_count": 0,
      "outputs": []
    },
    {
      "cell_type": "code",
      "metadata": {
        "id": "InydK-zLwZi2",
        "colab_type": "code",
        "colab": {}
      },
      "source": [
        "plt.plot(hist.history['loss'])\n",
        "plt.plot(hist.history['val_loss'])\n",
        "plt.title('Model loss')\n",
        "plt.ylabel('Loss')\n",
        "plt.xlabel('Epoch')\n",
        "plt.legend(['Train', 'Val'], loc='upper right')\n",
        "plt.show()"
      ],
      "execution_count": 0,
      "outputs": []
    },
    {
      "cell_type": "code",
      "metadata": {
        "id": "BCiYr7gewdNO",
        "colab_type": "code",
        "colab": {}
      },
      "source": [
        "plt.plot(hist.history['acc'])\n",
        "plt.plot(hist.history['val_acc'])\n",
        "plt.title('Model accuracy')\n",
        "plt.ylabel('Accuracy')\n",
        "plt.xlabel('Epoch')\n",
        "plt.legend(['Train', 'Val'], loc='lower right')\n",
        "plt.show()"
      ],
      "execution_count": 0,
      "outputs": []
    },
    {
      "cell_type": "markdown",
      "metadata": {
        "id": "eMCcSzDqYmfp",
        "colab_type": "text"
      },
      "source": [
        "# MODEL 2"
      ]
    },
    {
      "cell_type": "markdown",
      "metadata": {
        "id": "v1EKvm4-wAzK",
        "colab_type": "text"
      },
      "source": [
        "**Note:** We didn't use this in our paper."
      ]
    },
    {
      "cell_type": "code",
      "metadata": {
        "id": "r4Do4YqHwfhH",
        "colab_type": "code",
        "colab": {}
      },
      "source": [
        "model_2 = Sequential([\n",
        "    Dense(1000, activation='relu', input_shape=(3,)),\n",
        "    Dense(1000, activation='relu'),\n",
        "    Dense(1000, activation='relu'),\n",
        "    Dense(1000, activation='relu'),\n",
        "    Dense(1, activation='sigmoid'),\n",
        "])\n",
        "model_2.compile(optimizer='adam',\n",
        "              loss='binary_crossentropy',\n",
        "              metrics=['accuracy'])\n",
        "hist_2 = model_2.fit(x_train, y_train,\n",
        "          batch_size=32, epochs=3,\n",
        "          validation_data=(x_val, y_val))"
      ],
      "execution_count": 0,
      "outputs": []
    },
    {
      "cell_type": "code",
      "metadata": {
        "id": "1YqdTSkvGACn",
        "colab_type": "code",
        "colab": {}
      },
      "source": [
        "model_2.evaluate(x_test, y_test)[1]"
      ],
      "execution_count": 0,
      "outputs": []
    },
    {
      "cell_type": "code",
      "metadata": {
        "id": "MeGaDlOOwjg_",
        "colab_type": "code",
        "colab": {}
      },
      "source": [
        "plt.plot(hist_2.history['loss'])\n",
        "plt.plot(hist_2.history['val_loss'])\n",
        "plt.title('Model loss')\n",
        "plt.ylabel('Loss')\n",
        "plt.xlabel('Epoch')\n",
        "plt.legend(['Train', 'Val'], loc='upper right')\n",
        "plt.show()"
      ],
      "execution_count": 0,
      "outputs": []
    },
    {
      "cell_type": "code",
      "metadata": {
        "id": "A7bLIFdEwpEG",
        "colab_type": "code",
        "colab": {}
      },
      "source": [
        "plt.plot(hist_2.history['acc'])\n",
        "plt.plot(hist_2.history['val_acc'])\n",
        "plt.title('Model accuracy')\n",
        "plt.ylabel('Accuracy')\n",
        "plt.xlabel('Epoch')\n",
        "plt.legend(['Train', 'Val'], loc='lower right')\n",
        "plt.show()"
      ],
      "execution_count": 0,
      "outputs": []
    },
    {
      "cell_type": "markdown",
      "metadata": {
        "id": "bOCMx4liYpb1",
        "colab_type": "text"
      },
      "source": [
        "# MODEL 3"
      ]
    },
    {
      "cell_type": "markdown",
      "metadata": {
        "id": "2QR28kIgwCR8",
        "colab_type": "text"
      },
      "source": [
        "**Note:** We didn't use this in our paper."
      ]
    },
    {
      "cell_type": "code",
      "metadata": {
        "id": "evBUDrEMwqp3",
        "colab_type": "code",
        "colab": {}
      },
      "source": [
        "from keras.layers import Dropout\n",
        "from keras import regularizers"
      ],
      "execution_count": 0,
      "outputs": []
    },
    {
      "cell_type": "code",
      "metadata": {
        "id": "pH0M7hivwzbD",
        "colab_type": "code",
        "colab": {}
      },
      "source": [
        "model_3 = Sequential([\n",
        "    Dense(1000, activation='relu', kernel_regularizer=regularizers.l2(0.01), input_shape=(3,)),\n",
        "    Dropout(0.3),\n",
        "    Dense(1000, activation='relu', kernel_regularizer=regularizers.l2(0.01)),\n",
        "    Dropout(0.3),\n",
        "    Dense(1000, activation='relu', kernel_regularizer=regularizers.l2(0.01)),\n",
        "    Dropout(0.3),\n",
        "    Dense(1000, activation='relu', kernel_regularizer=regularizers.l2(0.01)),\n",
        "    Dropout(0.3),\n",
        "    Dense(1, activation='sigmoid', kernel_regularizer=regularizers.l2(0.01)),\n",
        "])"
      ],
      "execution_count": 0,
      "outputs": []
    },
    {
      "cell_type": "code",
      "metadata": {
        "id": "0ylwIc_PwzrO",
        "colab_type": "code",
        "colab": {}
      },
      "source": [
        "model_3.compile(optimizer='adam',\n",
        "              loss='binary_crossentropy',\n",
        "              metrics=['accuracy'])\n",
        "hist_3 = model_3.fit(x_train, y_train,\n",
        "          batch_size=32, epochs=3,\n",
        "          validation_data=(x_val, y_val))"
      ],
      "execution_count": 0,
      "outputs": []
    },
    {
      "cell_type": "code",
      "metadata": {
        "id": "XmnsuaImGCNQ",
        "colab_type": "code",
        "colab": {}
      },
      "source": [
        "model_3.evaluate(x_test, y_test)[1]"
      ],
      "execution_count": 0,
      "outputs": []
    },
    {
      "cell_type": "code",
      "metadata": {
        "id": "L_SUfUfMwzpS",
        "colab_type": "code",
        "colab": {}
      },
      "source": [
        "plt.plot(hist_3.history['loss'])\n",
        "plt.plot(hist_3.history['val_loss'])\n",
        "plt.title('Model loss')\n",
        "plt.ylabel('Loss')\n",
        "plt.xlabel('Epoch')\n",
        "plt.legend(['Train', 'Val'], loc='upper right')\n",
        "plt.ylim(top=1.2, bottom=0)\n",
        "plt.show()"
      ],
      "execution_count": 0,
      "outputs": []
    },
    {
      "cell_type": "code",
      "metadata": {
        "id": "DkXTtWLjwzmA",
        "colab_type": "code",
        "colab": {}
      },
      "source": [
        "plt.plot(hist_3.history['acc'])\n",
        "plt.plot(hist_3.history['val_acc'])\n",
        "plt.title('Model accuracy')\n",
        "plt.ylabel('Accuracy')\n",
        "plt.xlabel('Epoch')\n",
        "plt.legend(['Train', 'Val'], loc='lower right')\n",
        "plt.show()"
      ],
      "execution_count": 0,
      "outputs": []
    },
    {
      "cell_type": "markdown",
      "metadata": {
        "id": "uWIUk64R3ABc",
        "colab_type": "text"
      },
      "source": [
        "# RANDOM FOREST REGRESSION"
      ]
    },
    {
      "cell_type": "code",
      "metadata": {
        "id": "TyAHmaXK3DWF",
        "colab_type": "code",
        "colab": {}
      },
      "source": [
        "from sklearn.ensemble import RandomForestRegressor\n",
        "regressor = RandomForestRegressor(criterion='mae', n_estimators=100, random_state=1)\n",
        "regressor.fit(x_train, y_train)\n",
        "y_predicted = regressor.predict(x_test)\n",
        "\n",
        "from sklearn.metrics import r2_score\n",
        "rsquared = r2_score(y_test, y_predicted)\n",
        "\n",
        "rsquared"
      ],
      "execution_count": 0,
      "outputs": []
    }
  ]
}