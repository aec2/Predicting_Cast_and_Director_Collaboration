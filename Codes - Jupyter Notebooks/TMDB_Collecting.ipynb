{
  "nbformat": 4,
  "nbformat_minor": 0,
  "metadata": {
    "colab": {
      "name": "TMDB_Collecting.ipynb",
      "provenance": [],
      "toc_visible": true
    },
    "kernelspec": {
      "name": "python3",
      "display_name": "Python 3"
    }
  },
  "cells": [
    {
      "cell_type": "markdown",
      "metadata": {
        "id": "5zXXV7M7T6u8",
        "colab_type": "text"
      },
      "source": [
        "# TMDB (The Movie DB)"
      ]
    },
    {
      "cell_type": "markdown",
      "metadata": {
        "id": "9WZ7tdyGd-Yz",
        "colab_type": "text"
      },
      "source": [
        "## Collect Data From TMDB By IMDB List"
      ]
    },
    {
      "cell_type": "code",
      "metadata": {
        "id": "xdwDDQ2ZYBiu",
        "colab_type": "code",
        "colab": {}
      },
      "source": [
        "!pip install tmdbsimple"
      ],
      "execution_count": 0,
      "outputs": []
    },
    {
      "cell_type": "code",
      "metadata": {
        "id": "wNQHATwqXoJE",
        "colab_type": "code",
        "colab": {}
      },
      "source": [
        "import tmdbsimple as tmdb\n",
        "tmdb.API_KEY = '9bce8bd4cb035c7799b98338d9e227c0'\n",
        "\n",
        "fileName ='allData.txt'\n",
        "train_movie_id_list = [line.rstrip('\\n') for line in open(fileName)]\n",
        "imdb_list = train_movie_id_list\n",
        "\n",
        "len(imdb_list)\n",
        "general_list = []"
      ],
      "execution_count": 0,
      "outputs": []
    },
    {
      "cell_type": "code",
      "metadata": {
        "id": "-jGGf5BeXqfY",
        "colab_type": "code",
        "colab": {}
      },
      "source": [
        "from google.colab import drive\n",
        "drive.mount('/content/drive')"
      ],
      "execution_count": 0,
      "outputs": []
    },
    {
      "cell_type": "code",
      "metadata": {
        "id": "yRFJU5ksmxs0",
        "colab_type": "code",
        "colab": {}
      },
      "source": [
        "import urllib.request, json\n",
        "\n",
        "big_counter = -1\n",
        "\n",
        "for imdb_id in imdb_list:\n",
        "  big_counter = big_counter + 1\n",
        "  if big_counter >= 133434 and  big_counter <= 226950:\n",
        "    try:\n",
        "        with urllib.request.urlopen(\"https://api.themoviedb.org/3/find/\"+imdb_id+\"?api_key=9bce8bd4cb035c7799b98338d9e227c0&language=en-US&external_source=imdb_id\") as url:\n",
        "            data = json.loads(url.read().decode())\n",
        "            if len(data[\"movie_results\"]) != 0:\n",
        "                moviedb_id = data[\"movie_results\"][0]['id']\n",
        "                \n",
        "                movie = tmdb.Movies(moviedb_id)\n",
        "\n",
        "                response = movie.info()\n",
        "                movie_credits_dic = movie.credits(append_to_response='')\n",
        "\n",
        "                movie_list = []\n",
        "\n",
        "                movie_list.append(\"Movie_Name: \" + movie.title)\n",
        "                movie_list.append(\"Movie_Id: \" + movie.imdb_id)\n",
        "\n",
        "                counter = 0\n",
        "                for one_movie in movie_credits_dic[\"cast\"]:\n",
        "                    if \"character\" in one_movie:\n",
        "                        movie_list.append(\"Cast: \" + one_movie[\"name\"])\n",
        "                        counter  = counter + 1\n",
        "\n",
        "                counter = 0\n",
        "                for one_movie in movie_credits_dic[\"crew\"]:\n",
        "                    if \"job\" in one_movie:\n",
        "                        if one_movie[\"job\"]==\"Director\":\n",
        "                            movie_list.append(\"Director: \" + one_movie[\"name\"])\n",
        "                    counter  = counter + 1\n",
        "\n",
        "                general_list.append(movie_list)\n",
        "        \n",
        "\n",
        "    except Exception:\n",
        "        print(\"Problem Cikti!!!\")\n",
        "        continue"
      ],
      "execution_count": 0,
      "outputs": []
    },
    {
      "cell_type": "code",
      "metadata": {
        "id": "E1YPduO8Zexn",
        "colab_type": "code",
        "colab": {}
      },
      "source": [
        "with open('cast_director.txt', 'w') as f:\n",
        "    for item in general_list:\n",
        "        f.write(\"%s\\n\" % item)"
      ],
      "execution_count": 0,
      "outputs": []
    },
    {
      "cell_type": "code",
      "metadata": {
        "id": "kRdVZWlNWx_0",
        "colab_type": "code",
        "colab": {}
      },
      "source": [
        "!cp \"/content/cast_director.txt\" \"/content/drive/My Drive/\""
      ],
      "execution_count": 0,
      "outputs": []
    },
    {
      "cell_type": "markdown",
      "metadata": {
        "id": "N8D0_vHzT0Wz",
        "colab_type": "text"
      },
      "source": [
        "## Combine Splitted Datasets Above"
      ]
    },
    {
      "cell_type": "code",
      "metadata": {
        "id": "yXIKFi-7VPyr",
        "colab_type": "code",
        "colab": {}
      },
      "source": [
        "!cp \"/content/drive/My Drive/cast_director.txt\" \"/content\"\n",
        "!cp \"/content/drive/My Drive/cast_director2.txt\" \"/content\"\n",
        "\n",
        "first = [line.rstrip('\\n') for line in open(\"cast_director.txt\")]\n",
        "second = [line.rstrip('\\n') for line in open(\"cast_director2.txt\")]\n",
        "\n",
        "new_list = first + second\n",
        "\n",
        "len(new_list)"
      ],
      "execution_count": 0,
      "outputs": []
    },
    {
      "cell_type": "code",
      "metadata": {
        "colab_type": "code",
        "outputId": "0c7d7d23-ec14-49ed-b24a-de81f1b53190",
        "id": "5LvOT3lsVo1X",
        "colab": {
          "base_uri": "https://localhost:8080/",
          "height": 34
        }
      },
      "source": [
        "new_list = [line.rstrip('\\n') for line in open(\"cast_director.txt\")]\n",
        "len(new_list)"
      ],
      "execution_count": 0,
      "outputs": [
        {
          "output_type": "execute_result",
          "data": {
            "text/plain": [
              "104241"
            ]
          },
          "metadata": {
            "tags": []
          },
          "execution_count": 3
        }
      ]
    },
    {
      "cell_type": "code",
      "metadata": {
        "id": "NNalXZhuHrXV",
        "colab_type": "code",
        "colab": {}
      },
      "source": [
        "import ast\n",
        "\n",
        "gen_list = []\n",
        "\n",
        "for element in new_list:\n",
        "  gen_list.append(ast.literal_eval(element))"
      ],
      "execution_count": 0,
      "outputs": []
    },
    {
      "cell_type": "code",
      "metadata": {
        "id": "JxMIDJkFdvb3",
        "colab_type": "code",
        "colab": {}
      },
      "source": [
        "cast_director = []\n",
        "\n",
        "for element in gen_list:\n",
        "  control_bool_1 = False\n",
        "  control_bool_2 = False\n",
        "  for inner_element in element:\n",
        "    if \"Cast:\" in inner_element:\n",
        "      control_bool_1 = True\n",
        "    if \"Director:\" in inner_element:\n",
        "      control_bool_2 = True\n",
        "\n",
        "  if (control_bool_1==True) and (control_bool_2==True):\n",
        "    for inner_element in element:\n",
        "      if \"Director:\" in inner_element:\n",
        "        for inner_element_2 in element:\n",
        "          if \"Cast:\" in inner_element_2:\n",
        "            cast_director.append(inner_element.replace('Director: ','') + \"---\" + inner_element_2.replace('Cast: ',''))"
      ],
      "execution_count": 0,
      "outputs": []
    },
    {
      "cell_type": "code",
      "metadata": {
        "id": "binO80IKJvj7",
        "colab_type": "code",
        "colab": {}
      },
      "source": [
        "with open('cast_director_edges.txt', 'w') as f:\n",
        "    for item in cast_director:\n",
        "        f.write(\"%s\\n\" % item)"
      ],
      "execution_count": 0,
      "outputs": []
    },
    {
      "cell_type": "markdown",
      "metadata": {
        "id": "2DGD1brtjsEQ",
        "colab_type": "text"
      },
      "source": [
        "## Count Edges & Edit Edges"
      ]
    },
    {
      "cell_type": "code",
      "metadata": {
        "id": "2MpXWavdYKc6",
        "colab_type": "code",
        "outputId": "76c2e068-83a4-4e63-b3e9-27604a94aee8",
        "colab": {
          "base_uri": "https://localhost:8080/",
          "height": 34
        }
      },
      "source": [
        "edge_list = [line.rstrip('\\n') for line in open(\"cast_director_edges.txt\")]\n",
        "\n",
        "len(edge_list)"
      ],
      "execution_count": 0,
      "outputs": [
        {
          "output_type": "execute_result",
          "data": {
            "text/plain": [
              "937579"
            ]
          },
          "metadata": {
            "tags": []
          },
          "execution_count": 10
        }
      ]
    },
    {
      "cell_type": "code",
      "metadata": {
        "id": "phGkNn4zlAg9",
        "colab_type": "code",
        "outputId": "cc823d87-1266-4f9c-a3c0-01ea03302dd6",
        "colab": {
          "base_uri": "https://localhost:8080/",
          "height": 473
        }
      },
      "source": [
        "import pandas as pd\n",
        "\n",
        "edgesData = pd.read_csv('cast_director_edges.txt', sep='---', header=None)\n",
        "edgesData.columns = [\"director\", \"movie_star\"]\n",
        "edgesData"
      ],
      "execution_count": 0,
      "outputs": [
        {
          "output_type": "stream",
          "text": [
            "/usr/local/lib/python3.6/dist-packages/ipykernel_launcher.py:3: ParserWarning: Falling back to the 'python' engine because the 'c' engine does not support regex separators (separators > 1 char and different from '\\s+' are interpreted as regex); you can avoid this warning by specifying engine='python'.\n",
            "  This is separate from the ipykernel package so we can avoid doing imports until\n"
          ],
          "name": "stderr"
        },
        {
          "output_type": "execute_result",
          "data": {
            "text/html": [
              "<div>\n",
              "<style scoped>\n",
              "    .dataframe tbody tr th:only-of-type {\n",
              "        vertical-align: middle;\n",
              "    }\n",
              "\n",
              "    .dataframe tbody tr th {\n",
              "        vertical-align: top;\n",
              "    }\n",
              "\n",
              "    .dataframe thead th {\n",
              "        text-align: right;\n",
              "    }\n",
              "</style>\n",
              "<table border=\"1\" class=\"dataframe\">\n",
              "  <thead>\n",
              "    <tr style=\"text-align: right;\">\n",
              "      <th></th>\n",
              "      <th>director</th>\n",
              "      <th>movie_star</th>\n",
              "    </tr>\n",
              "  </thead>\n",
              "  <tbody>\n",
              "    <tr>\n",
              "      <th>0</th>\n",
              "      <td>James Mangold</td>\n",
              "      <td>Meg Ryan</td>\n",
              "    </tr>\n",
              "    <tr>\n",
              "      <th>1</th>\n",
              "      <td>James Mangold</td>\n",
              "      <td>Hugh Jackman</td>\n",
              "    </tr>\n",
              "    <tr>\n",
              "      <th>2</th>\n",
              "      <td>James Mangold</td>\n",
              "      <td>Liev Schreiber</td>\n",
              "    </tr>\n",
              "    <tr>\n",
              "      <th>3</th>\n",
              "      <td>James Mangold</td>\n",
              "      <td>Breckin Meyer</td>\n",
              "    </tr>\n",
              "    <tr>\n",
              "      <th>4</th>\n",
              "      <td>James Mangold</td>\n",
              "      <td>Natasha Lyonne</td>\n",
              "    </tr>\n",
              "    <tr>\n",
              "      <th>...</th>\n",
              "      <td>...</td>\n",
              "      <td>...</td>\n",
              "    </tr>\n",
              "    <tr>\n",
              "      <th>937574</th>\n",
              "      <td>Jixing Wang</td>\n",
              "      <td>Li Xuejian</td>\n",
              "    </tr>\n",
              "    <tr>\n",
              "      <th>937575</th>\n",
              "      <td>Jixing Wang</td>\n",
              "      <td>Jiang Wenli</td>\n",
              "    </tr>\n",
              "    <tr>\n",
              "      <th>937576</th>\n",
              "      <td>Jixing Wang</td>\n",
              "      <td>Li Youbin</td>\n",
              "    </tr>\n",
              "    <tr>\n",
              "      <th>937577</th>\n",
              "      <td>Jixing Wang</td>\n",
              "      <td>Guo Jinglin</td>\n",
              "    </tr>\n",
              "    <tr>\n",
              "      <th>937578</th>\n",
              "      <td>Jixing Wang</td>\n",
              "      <td>Sun Hao</td>\n",
              "    </tr>\n",
              "  </tbody>\n",
              "</table>\n",
              "<p>937579 rows × 2 columns</p>\n",
              "</div>"
            ],
            "text/plain": [
              "             director      movie_star\n",
              "0       James Mangold        Meg Ryan\n",
              "1       James Mangold    Hugh Jackman\n",
              "2       James Mangold  Liev Schreiber\n",
              "3       James Mangold   Breckin Meyer\n",
              "4       James Mangold  Natasha Lyonne\n",
              "...               ...             ...\n",
              "937574    Jixing Wang      Li Xuejian\n",
              "937575    Jixing Wang     Jiang Wenli\n",
              "937576    Jixing Wang       Li Youbin\n",
              "937577    Jixing Wang     Guo Jinglin\n",
              "937578    Jixing Wang         Sun Hao\n",
              "\n",
              "[937579 rows x 2 columns]"
            ]
          },
          "metadata": {
            "tags": []
          },
          "execution_count": 6
        }
      ]
    },
    {
      "cell_type": "code",
      "metadata": {
        "id": "CKCkuBY1lDC3",
        "colab_type": "code",
        "colab": {}
      },
      "source": [
        "counted = edgesData.groupby(edgesData.columns.tolist()).size().reset_index().\\\n",
        "    rename(columns={0:'weight'})"
      ],
      "execution_count": 0,
      "outputs": []
    },
    {
      "cell_type": "code",
      "metadata": {
        "id": "sIp6Hr-Sn3a9",
        "colab_type": "code",
        "outputId": "5fb25de1-dac3-40af-c0f1-d4f2514d10a3",
        "colab": {
          "base_uri": "https://localhost:8080/",
          "height": 419
        }
      },
      "source": [
        "counted"
      ],
      "execution_count": 0,
      "outputs": [
        {
          "output_type": "execute_result",
          "data": {
            "text/html": [
              "<div>\n",
              "<style scoped>\n",
              "    .dataframe tbody tr th:only-of-type {\n",
              "        vertical-align: middle;\n",
              "    }\n",
              "\n",
              "    .dataframe tbody tr th {\n",
              "        vertical-align: top;\n",
              "    }\n",
              "\n",
              "    .dataframe thead th {\n",
              "        text-align: right;\n",
              "    }\n",
              "</style>\n",
              "<table border=\"1\" class=\"dataframe\">\n",
              "  <thead>\n",
              "    <tr style=\"text-align: right;\">\n",
              "      <th></th>\n",
              "      <th>director</th>\n",
              "      <th>movie_star</th>\n",
              "      <th>weight</th>\n",
              "    </tr>\n",
              "  </thead>\n",
              "  <tbody>\n",
              "    <tr>\n",
              "      <th>0</th>\n",
              "      <td>'Evil' Ted Smith</td>\n",
              "      <td>Ardy Brent Carlson</td>\n",
              "      <td>1</td>\n",
              "    </tr>\n",
              "    <tr>\n",
              "      <th>1</th>\n",
              "      <td>'Evil' Ted Smith</td>\n",
              "      <td>Chris Sheets</td>\n",
              "      <td>1</td>\n",
              "    </tr>\n",
              "    <tr>\n",
              "      <th>2</th>\n",
              "      <td>'Evil' Ted Smith</td>\n",
              "      <td>Glen Levy</td>\n",
              "      <td>1</td>\n",
              "    </tr>\n",
              "    <tr>\n",
              "      <th>3</th>\n",
              "      <td>'Evil' Ted Smith</td>\n",
              "      <td>Heather Ashley Chase</td>\n",
              "      <td>1</td>\n",
              "    </tr>\n",
              "    <tr>\n",
              "      <th>4</th>\n",
              "      <td>'Evil' Ted Smith</td>\n",
              "      <td>Isis McKenzie</td>\n",
              "      <td>1</td>\n",
              "    </tr>\n",
              "    <tr>\n",
              "      <th>...</th>\n",
              "      <td>...</td>\n",
              "      <td>...</td>\n",
              "      <td>...</td>\n",
              "    </tr>\n",
              "    <tr>\n",
              "      <th>875889</th>\n",
              "      <td>최신규</td>\n",
              "      <td>Shin Yong-woo</td>\n",
              "      <td>1</td>\n",
              "    </tr>\n",
              "    <tr>\n",
              "      <th>875890</th>\n",
              "      <td>최신규</td>\n",
              "      <td>Um Sang-hyun</td>\n",
              "      <td>1</td>\n",
              "    </tr>\n",
              "    <tr>\n",
              "      <th>875891</th>\n",
              "      <td>최신규</td>\n",
              "      <td>Yang Jeong-hwa</td>\n",
              "      <td>1</td>\n",
              "    </tr>\n",
              "    <tr>\n",
              "      <th>875892</th>\n",
              "      <td>최신규</td>\n",
              "      <td>김용준</td>\n",
              "      <td>1</td>\n",
              "    </tr>\n",
              "    <tr>\n",
              "      <th>875893</th>\n",
              "      <td>최신규</td>\n",
              "      <td>이지현</td>\n",
              "      <td>1</td>\n",
              "    </tr>\n",
              "  </tbody>\n",
              "</table>\n",
              "<p>875894 rows × 3 columns</p>\n",
              "</div>"
            ],
            "text/plain": [
              "                director            movie_star  weight\n",
              "0       'Evil' Ted Smith    Ardy Brent Carlson       1\n",
              "1       'Evil' Ted Smith          Chris Sheets       1\n",
              "2       'Evil' Ted Smith             Glen Levy       1\n",
              "3       'Evil' Ted Smith  Heather Ashley Chase       1\n",
              "4       'Evil' Ted Smith         Isis McKenzie       1\n",
              "...                  ...                   ...     ...\n",
              "875889               최신규         Shin Yong-woo       1\n",
              "875890               최신규          Um Sang-hyun       1\n",
              "875891               최신규        Yang Jeong-hwa       1\n",
              "875892               최신규                   김용준       1\n",
              "875893               최신규                   이지현       1\n",
              "\n",
              "[875894 rows x 3 columns]"
            ]
          },
          "metadata": {
            "tags": []
          },
          "execution_count": 11
        }
      ]
    },
    {
      "cell_type": "code",
      "metadata": {
        "id": "zZbJ5uoWmfyr",
        "colab_type": "code",
        "colab": {}
      },
      "source": [
        "counted = counted.sort_values(by=['weight'])"
      ],
      "execution_count": 0,
      "outputs": []
    },
    {
      "cell_type": "code",
      "metadata": {
        "id": "lE9hYeHgmg-4",
        "colab_type": "code",
        "colab": {}
      },
      "source": [
        "counted.to_csv(\"counted_TMDB.txt\")"
      ],
      "execution_count": 0,
      "outputs": []
    }
  ]
}